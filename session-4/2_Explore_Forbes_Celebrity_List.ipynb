{
 "cells": [
  {
   "cell_type": "markdown",
   "metadata": {},
   "source": [
    "### Import libraries\n",
    "\n",
    "1. pandas - Python Data Analysis Library (http://pandas.pydata.org)\n",
    "2. numpy - Numerical Python (http://numpy.org)"
   ]
  },
  {
   "cell_type": "code",
   "execution_count": 2,
   "metadata": {},
   "outputs": [],
   "source": [
    "import pandas as pd"
   ]
  },
  {
   "cell_type": "code",
   "execution_count": 3,
   "metadata": {},
   "outputs": [],
   "source": [
    "import numpy as np"
   ]
  },
  {
   "cell_type": "markdown",
   "metadata": {},
   "source": [
    "### Read in data from CSV file"
   ]
  },
  {
   "cell_type": "markdown",
   "metadata": {},
   "source": [
    "Define filename and read contents into dataframe df"
   ]
  },
  {
   "cell_type": "code",
   "execution_count": 14,
   "metadata": {},
   "outputs": [],
   "source": [
    "fn = 'input/forbes_celebrity_list.csv'\n",
    "df = pd.read_csv(fn)"
   ]
  },
  {
   "cell_type": "markdown",
   "metadata": {},
   "source": [
    "Check documentation or Google keywords: \"pandas read_csv\""
   ]
  },
  {
   "cell_type": "code",
   "execution_count": 12,
   "metadata": {},
   "outputs": [],
   "source": [
    "?pd.read_csv"
   ]
  },
  {
   "cell_type": "code",
   "execution_count": 17,
   "metadata": {},
   "outputs": [
    {
     "data": {
      "text/html": [
       "<div>\n",
       "<style scoped>\n",
       "    .dataframe tbody tr th:only-of-type {\n",
       "        vertical-align: middle;\n",
       "    }\n",
       "\n",
       "    .dataframe tbody tr th {\n",
       "        vertical-align: top;\n",
       "    }\n",
       "\n",
       "    .dataframe thead th {\n",
       "        text-align: right;\n",
       "    }\n",
       "</style>\n",
       "<table border=\"1\" class=\"dataframe\">\n",
       "  <thead>\n",
       "    <tr style=\"text-align: right;\">\n",
       "      <th></th>\n",
       "      <th>year</th>\n",
       "      <th>rank</th>\n",
       "      <th>recipient</th>\n",
       "      <th>country</th>\n",
       "      <th>career</th>\n",
       "      <th>tied</th>\n",
       "      <th>title</th>\n",
       "    </tr>\n",
       "  </thead>\n",
       "  <tbody>\n",
       "    <tr>\n",
       "      <th>0</th>\n",
       "      <td>1999</td>\n",
       "      <td>1</td>\n",
       "      <td>Michael Jordan</td>\n",
       "      <td>United States</td>\n",
       "      <td>Sportsperson (Basketball)</td>\n",
       "      <td>0</td>\n",
       "      <td>Michael_Jordan</td>\n",
       "    </tr>\n",
       "    <tr>\n",
       "      <th>1</th>\n",
       "      <td>1999</td>\n",
       "      <td>2</td>\n",
       "      <td>Oprah Winfrey</td>\n",
       "      <td>United States</td>\n",
       "      <td>Television Personality</td>\n",
       "      <td>0</td>\n",
       "      <td>Oprah_Winfrey</td>\n",
       "    </tr>\n",
       "    <tr>\n",
       "      <th>2</th>\n",
       "      <td>1999</td>\n",
       "      <td>3</td>\n",
       "      <td>Leonardo DiCaprio</td>\n",
       "      <td>United States</td>\n",
       "      <td>Actor</td>\n",
       "      <td>0</td>\n",
       "      <td>Leonardo_DiCaprio</td>\n",
       "    </tr>\n",
       "    <tr>\n",
       "      <th>3</th>\n",
       "      <td>1999</td>\n",
       "      <td>4</td>\n",
       "      <td>Jerry Seinfeld</td>\n",
       "      <td>United States</td>\n",
       "      <td>Actor</td>\n",
       "      <td>0</td>\n",
       "      <td>Jerry_Seinfeld</td>\n",
       "    </tr>\n",
       "    <tr>\n",
       "      <th>4</th>\n",
       "      <td>1999</td>\n",
       "      <td>5</td>\n",
       "      <td>Steven Spielberg</td>\n",
       "      <td>United States</td>\n",
       "      <td>Filmmaker</td>\n",
       "      <td>0</td>\n",
       "      <td>Steven_Spielberg</td>\n",
       "    </tr>\n",
       "    <tr>\n",
       "      <th>...</th>\n",
       "      <td>...</td>\n",
       "      <td>...</td>\n",
       "      <td>...</td>\n",
       "      <td>...</td>\n",
       "      <td>...</td>\n",
       "      <td>...</td>\n",
       "      <td>...</td>\n",
       "    </tr>\n",
       "    <tr>\n",
       "      <th>197</th>\n",
       "      <td>2018</td>\n",
       "      <td>6</td>\n",
       "      <td>U2</td>\n",
       "      <td>Republic of Ireland</td>\n",
       "      <td>Musicians</td>\n",
       "      <td>0</td>\n",
       "      <td>U2</td>\n",
       "    </tr>\n",
       "    <tr>\n",
       "      <th>198</th>\n",
       "      <td>2018</td>\n",
       "      <td>7</td>\n",
       "      <td>Coldplay</td>\n",
       "      <td>United Kingdom</td>\n",
       "      <td>Musicians</td>\n",
       "      <td>0</td>\n",
       "      <td>Coldplay</td>\n",
       "    </tr>\n",
       "    <tr>\n",
       "      <th>199</th>\n",
       "      <td>2018</td>\n",
       "      <td>8</td>\n",
       "      <td>Lionel Messi</td>\n",
       "      <td>Argentina</td>\n",
       "      <td>Athlete (Association football)</td>\n",
       "      <td>0</td>\n",
       "      <td>Lionel_Messi</td>\n",
       "    </tr>\n",
       "    <tr>\n",
       "      <th>200</th>\n",
       "      <td>2018</td>\n",
       "      <td>9</td>\n",
       "      <td>Ed Sheeran</td>\n",
       "      <td>United Kingdom</td>\n",
       "      <td>Musician</td>\n",
       "      <td>0</td>\n",
       "      <td>Ed_Sheeran</td>\n",
       "    </tr>\n",
       "    <tr>\n",
       "      <th>201</th>\n",
       "      <td>2018</td>\n",
       "      <td>10</td>\n",
       "      <td>Cristiano Ronaldo</td>\n",
       "      <td>Portugal</td>\n",
       "      <td>Athlete (Association football)</td>\n",
       "      <td>0</td>\n",
       "      <td>Cristiano_Ronaldo</td>\n",
       "    </tr>\n",
       "  </tbody>\n",
       "</table>\n",
       "<p>202 rows × 7 columns</p>\n",
       "</div>"
      ],
      "text/plain": [
       "     year  rank          recipient              country  \\\n",
       "0    1999     1     Michael Jordan        United States   \n",
       "1    1999     2      Oprah Winfrey        United States   \n",
       "2    1999     3  Leonardo DiCaprio        United States   \n",
       "3    1999     4     Jerry Seinfeld        United States   \n",
       "4    1999     5   Steven Spielberg        United States   \n",
       "..    ...   ...                ...                  ...   \n",
       "197  2018     6                 U2  Republic of Ireland   \n",
       "198  2018     7           Coldplay       United Kingdom   \n",
       "199  2018     8       Lionel Messi            Argentina   \n",
       "200  2018     9         Ed Sheeran       United Kingdom   \n",
       "201  2018    10  Cristiano Ronaldo             Portugal   \n",
       "\n",
       "                             career  tied              title  \n",
       "0         Sportsperson (Basketball)     0     Michael_Jordan  \n",
       "1            Television Personality     0      Oprah_Winfrey  \n",
       "2                             Actor     0  Leonardo_DiCaprio  \n",
       "3                             Actor     0     Jerry_Seinfeld  \n",
       "4                         Filmmaker     0   Steven_Spielberg  \n",
       "..                              ...   ...                ...  \n",
       "197                       Musicians     0                 U2  \n",
       "198                       Musicians     0           Coldplay  \n",
       "199  Athlete (Association football)     0       Lionel_Messi  \n",
       "200                        Musician     0         Ed_Sheeran  \n",
       "201  Athlete (Association football)     0  Cristiano_Ronaldo  \n",
       "\n",
       "[202 rows x 7 columns]"
      ]
     },
     "execution_count": 17,
     "metadata": {},
     "output_type": "execute_result"
    }
   ],
   "source": [
    "df # this is a Pandas dataframe\n",
    "# Note that every row has an index & every column has name"
   ]
  },
  {
   "cell_type": "markdown",
   "metadata": {},
   "source": [
    "Inspect first rows"
   ]
  },
  {
   "cell_type": "code",
   "execution_count": 18,
   "metadata": {},
   "outputs": [
    {
     "data": {
      "text/html": [
       "<div>\n",
       "<style scoped>\n",
       "    .dataframe tbody tr th:only-of-type {\n",
       "        vertical-align: middle;\n",
       "    }\n",
       "\n",
       "    .dataframe tbody tr th {\n",
       "        vertical-align: top;\n",
       "    }\n",
       "\n",
       "    .dataframe thead th {\n",
       "        text-align: right;\n",
       "    }\n",
       "</style>\n",
       "<table border=\"1\" class=\"dataframe\">\n",
       "  <thead>\n",
       "    <tr style=\"text-align: right;\">\n",
       "      <th></th>\n",
       "      <th>year</th>\n",
       "      <th>rank</th>\n",
       "      <th>recipient</th>\n",
       "      <th>country</th>\n",
       "      <th>career</th>\n",
       "      <th>tied</th>\n",
       "      <th>title</th>\n",
       "    </tr>\n",
       "  </thead>\n",
       "  <tbody>\n",
       "    <tr>\n",
       "      <th>0</th>\n",
       "      <td>1999</td>\n",
       "      <td>1</td>\n",
       "      <td>Michael Jordan</td>\n",
       "      <td>United States</td>\n",
       "      <td>Sportsperson (Basketball)</td>\n",
       "      <td>0</td>\n",
       "      <td>Michael_Jordan</td>\n",
       "    </tr>\n",
       "    <tr>\n",
       "      <th>1</th>\n",
       "      <td>1999</td>\n",
       "      <td>2</td>\n",
       "      <td>Oprah Winfrey</td>\n",
       "      <td>United States</td>\n",
       "      <td>Television Personality</td>\n",
       "      <td>0</td>\n",
       "      <td>Oprah_Winfrey</td>\n",
       "    </tr>\n",
       "    <tr>\n",
       "      <th>2</th>\n",
       "      <td>1999</td>\n",
       "      <td>3</td>\n",
       "      <td>Leonardo DiCaprio</td>\n",
       "      <td>United States</td>\n",
       "      <td>Actor</td>\n",
       "      <td>0</td>\n",
       "      <td>Leonardo_DiCaprio</td>\n",
       "    </tr>\n",
       "    <tr>\n",
       "      <th>3</th>\n",
       "      <td>1999</td>\n",
       "      <td>4</td>\n",
       "      <td>Jerry Seinfeld</td>\n",
       "      <td>United States</td>\n",
       "      <td>Actor</td>\n",
       "      <td>0</td>\n",
       "      <td>Jerry_Seinfeld</td>\n",
       "    </tr>\n",
       "    <tr>\n",
       "      <th>4</th>\n",
       "      <td>1999</td>\n",
       "      <td>5</td>\n",
       "      <td>Steven Spielberg</td>\n",
       "      <td>United States</td>\n",
       "      <td>Filmmaker</td>\n",
       "      <td>0</td>\n",
       "      <td>Steven_Spielberg</td>\n",
       "    </tr>\n",
       "  </tbody>\n",
       "</table>\n",
       "</div>"
      ],
      "text/plain": [
       "   year  rank          recipient        country                     career  \\\n",
       "0  1999     1     Michael Jordan  United States  Sportsperson (Basketball)   \n",
       "1  1999     2      Oprah Winfrey  United States     Television Personality   \n",
       "2  1999     3  Leonardo DiCaprio  United States                      Actor   \n",
       "3  1999     4     Jerry Seinfeld  United States                      Actor   \n",
       "4  1999     5   Steven Spielberg  United States                  Filmmaker   \n",
       "\n",
       "   tied              title  \n",
       "0     0     Michael_Jordan  \n",
       "1     0      Oprah_Winfrey  \n",
       "2     0  Leonardo_DiCaprio  \n",
       "3     0     Jerry_Seinfeld  \n",
       "4     0   Steven_Spielberg  "
      ]
     },
     "execution_count": 18,
     "metadata": {},
     "output_type": "execute_result"
    }
   ],
   "source": [
    "df.head()"
   ]
  },
  {
   "cell_type": "markdown",
   "metadata": {},
   "source": [
    "Inspect first 10 rows"
   ]
  },
  {
   "cell_type": "code",
   "execution_count": 19,
   "metadata": {},
   "outputs": [
    {
     "data": {
      "text/html": [
       "<div>\n",
       "<style scoped>\n",
       "    .dataframe tbody tr th:only-of-type {\n",
       "        vertical-align: middle;\n",
       "    }\n",
       "\n",
       "    .dataframe tbody tr th {\n",
       "        vertical-align: top;\n",
       "    }\n",
       "\n",
       "    .dataframe thead th {\n",
       "        text-align: right;\n",
       "    }\n",
       "</style>\n",
       "<table border=\"1\" class=\"dataframe\">\n",
       "  <thead>\n",
       "    <tr style=\"text-align: right;\">\n",
       "      <th></th>\n",
       "      <th>year</th>\n",
       "      <th>rank</th>\n",
       "      <th>recipient</th>\n",
       "      <th>country</th>\n",
       "      <th>career</th>\n",
       "      <th>tied</th>\n",
       "      <th>title</th>\n",
       "    </tr>\n",
       "  </thead>\n",
       "  <tbody>\n",
       "    <tr>\n",
       "      <th>0</th>\n",
       "      <td>1999</td>\n",
       "      <td>1</td>\n",
       "      <td>Michael Jordan</td>\n",
       "      <td>United States</td>\n",
       "      <td>Sportsperson (Basketball)</td>\n",
       "      <td>0</td>\n",
       "      <td>Michael_Jordan</td>\n",
       "    </tr>\n",
       "    <tr>\n",
       "      <th>1</th>\n",
       "      <td>1999</td>\n",
       "      <td>2</td>\n",
       "      <td>Oprah Winfrey</td>\n",
       "      <td>United States</td>\n",
       "      <td>Television Personality</td>\n",
       "      <td>0</td>\n",
       "      <td>Oprah_Winfrey</td>\n",
       "    </tr>\n",
       "    <tr>\n",
       "      <th>2</th>\n",
       "      <td>1999</td>\n",
       "      <td>3</td>\n",
       "      <td>Leonardo DiCaprio</td>\n",
       "      <td>United States</td>\n",
       "      <td>Actor</td>\n",
       "      <td>0</td>\n",
       "      <td>Leonardo_DiCaprio</td>\n",
       "    </tr>\n",
       "    <tr>\n",
       "      <th>3</th>\n",
       "      <td>1999</td>\n",
       "      <td>4</td>\n",
       "      <td>Jerry Seinfeld</td>\n",
       "      <td>United States</td>\n",
       "      <td>Actor</td>\n",
       "      <td>0</td>\n",
       "      <td>Jerry_Seinfeld</td>\n",
       "    </tr>\n",
       "    <tr>\n",
       "      <th>4</th>\n",
       "      <td>1999</td>\n",
       "      <td>5</td>\n",
       "      <td>Steven Spielberg</td>\n",
       "      <td>United States</td>\n",
       "      <td>Filmmaker</td>\n",
       "      <td>0</td>\n",
       "      <td>Steven_Spielberg</td>\n",
       "    </tr>\n",
       "    <tr>\n",
       "      <th>5</th>\n",
       "      <td>1999</td>\n",
       "      <td>6</td>\n",
       "      <td>Spice Girls</td>\n",
       "      <td>United Kingdom</td>\n",
       "      <td>Musicians</td>\n",
       "      <td>0</td>\n",
       "      <td>Spice_Girls</td>\n",
       "    </tr>\n",
       "    <tr>\n",
       "      <th>6</th>\n",
       "      <td>1999</td>\n",
       "      <td>7</td>\n",
       "      <td>Harrison Ford</td>\n",
       "      <td>United States</td>\n",
       "      <td>Actor</td>\n",
       "      <td>0</td>\n",
       "      <td>Harrison_Ford</td>\n",
       "    </tr>\n",
       "    <tr>\n",
       "      <th>7</th>\n",
       "      <td>1999</td>\n",
       "      <td>8</td>\n",
       "      <td>Robin Williams</td>\n",
       "      <td>United States</td>\n",
       "      <td>Actor</td>\n",
       "      <td>0</td>\n",
       "      <td>Robin_Williams</td>\n",
       "    </tr>\n",
       "    <tr>\n",
       "      <th>8</th>\n",
       "      <td>1999</td>\n",
       "      <td>9</td>\n",
       "      <td>Celine Dion</td>\n",
       "      <td>Canada</td>\n",
       "      <td>Musician</td>\n",
       "      <td>0</td>\n",
       "      <td>Céline_Dion</td>\n",
       "    </tr>\n",
       "    <tr>\n",
       "      <th>9</th>\n",
       "      <td>1999</td>\n",
       "      <td>10</td>\n",
       "      <td>The Rolling Stones</td>\n",
       "      <td>United Kingdom</td>\n",
       "      <td>Musicians</td>\n",
       "      <td>0</td>\n",
       "      <td>The_Rolling_Stones</td>\n",
       "    </tr>\n",
       "  </tbody>\n",
       "</table>\n",
       "</div>"
      ],
      "text/plain": [
       "   year  rank           recipient         country                     career  \\\n",
       "0  1999     1      Michael Jordan   United States  Sportsperson (Basketball)   \n",
       "1  1999     2       Oprah Winfrey   United States     Television Personality   \n",
       "2  1999     3   Leonardo DiCaprio   United States                      Actor   \n",
       "3  1999     4      Jerry Seinfeld   United States                      Actor   \n",
       "4  1999     5    Steven Spielberg   United States                  Filmmaker   \n",
       "5  1999     6         Spice Girls  United Kingdom                  Musicians   \n",
       "6  1999     7       Harrison Ford   United States                      Actor   \n",
       "7  1999     8      Robin Williams   United States                      Actor   \n",
       "8  1999     9         Celine Dion          Canada                   Musician   \n",
       "9  1999    10  The Rolling Stones  United Kingdom                  Musicians   \n",
       "\n",
       "   tied               title  \n",
       "0     0      Michael_Jordan  \n",
       "1     0       Oprah_Winfrey  \n",
       "2     0   Leonardo_DiCaprio  \n",
       "3     0      Jerry_Seinfeld  \n",
       "4     0    Steven_Spielberg  \n",
       "5     0         Spice_Girls  \n",
       "6     0       Harrison_Ford  \n",
       "7     0      Robin_Williams  \n",
       "8     0         Céline_Dion  \n",
       "9     0  The_Rolling_Stones  "
      ]
     },
     "execution_count": 19,
     "metadata": {},
     "output_type": "execute_result"
    }
   ],
   "source": [
    "df.head(10)"
   ]
  },
  {
   "cell_type": "markdown",
   "metadata": {},
   "source": [
    "Inspect last 10 rows"
   ]
  },
  {
   "cell_type": "code",
   "execution_count": 20,
   "metadata": {},
   "outputs": [
    {
     "data": {
      "text/html": [
       "<div>\n",
       "<style scoped>\n",
       "    .dataframe tbody tr th:only-of-type {\n",
       "        vertical-align: middle;\n",
       "    }\n",
       "\n",
       "    .dataframe tbody tr th {\n",
       "        vertical-align: top;\n",
       "    }\n",
       "\n",
       "    .dataframe thead th {\n",
       "        text-align: right;\n",
       "    }\n",
       "</style>\n",
       "<table border=\"1\" class=\"dataframe\">\n",
       "  <thead>\n",
       "    <tr style=\"text-align: right;\">\n",
       "      <th></th>\n",
       "      <th>year</th>\n",
       "      <th>rank</th>\n",
       "      <th>recipient</th>\n",
       "      <th>country</th>\n",
       "      <th>career</th>\n",
       "      <th>tied</th>\n",
       "      <th>title</th>\n",
       "    </tr>\n",
       "  </thead>\n",
       "  <tbody>\n",
       "    <tr>\n",
       "      <th>192</th>\n",
       "      <td>2018</td>\n",
       "      <td>1</td>\n",
       "      <td>Floyd Mayweather, Jr.</td>\n",
       "      <td>United States</td>\n",
       "      <td>Athlete (Boxing)</td>\n",
       "      <td>0</td>\n",
       "      <td>Floyd_Mayweather_Jr.</td>\n",
       "    </tr>\n",
       "    <tr>\n",
       "      <th>193</th>\n",
       "      <td>2018</td>\n",
       "      <td>2</td>\n",
       "      <td>George Clooney</td>\n",
       "      <td>United States</td>\n",
       "      <td>Actor</td>\n",
       "      <td>0</td>\n",
       "      <td>George_Clooney</td>\n",
       "    </tr>\n",
       "    <tr>\n",
       "      <th>194</th>\n",
       "      <td>2018</td>\n",
       "      <td>3</td>\n",
       "      <td>Kylie Jenner</td>\n",
       "      <td>United States</td>\n",
       "      <td>Personality</td>\n",
       "      <td>0</td>\n",
       "      <td>Kylie_Jenner</td>\n",
       "    </tr>\n",
       "    <tr>\n",
       "      <th>195</th>\n",
       "      <td>2018</td>\n",
       "      <td>4</td>\n",
       "      <td>Judy Sheindlin</td>\n",
       "      <td>United States</td>\n",
       "      <td>Personality</td>\n",
       "      <td>0</td>\n",
       "      <td>Judy_Sheindlin</td>\n",
       "    </tr>\n",
       "    <tr>\n",
       "      <th>196</th>\n",
       "      <td>2018</td>\n",
       "      <td>5</td>\n",
       "      <td>Dwayne Johnson</td>\n",
       "      <td>United States</td>\n",
       "      <td>Actor</td>\n",
       "      <td>0</td>\n",
       "      <td>Dwayne_Johnson</td>\n",
       "    </tr>\n",
       "    <tr>\n",
       "      <th>197</th>\n",
       "      <td>2018</td>\n",
       "      <td>6</td>\n",
       "      <td>U2</td>\n",
       "      <td>Republic of Ireland</td>\n",
       "      <td>Musicians</td>\n",
       "      <td>0</td>\n",
       "      <td>U2</td>\n",
       "    </tr>\n",
       "    <tr>\n",
       "      <th>198</th>\n",
       "      <td>2018</td>\n",
       "      <td>7</td>\n",
       "      <td>Coldplay</td>\n",
       "      <td>United Kingdom</td>\n",
       "      <td>Musicians</td>\n",
       "      <td>0</td>\n",
       "      <td>Coldplay</td>\n",
       "    </tr>\n",
       "    <tr>\n",
       "      <th>199</th>\n",
       "      <td>2018</td>\n",
       "      <td>8</td>\n",
       "      <td>Lionel Messi</td>\n",
       "      <td>Argentina</td>\n",
       "      <td>Athlete (Association football)</td>\n",
       "      <td>0</td>\n",
       "      <td>Lionel_Messi</td>\n",
       "    </tr>\n",
       "    <tr>\n",
       "      <th>200</th>\n",
       "      <td>2018</td>\n",
       "      <td>9</td>\n",
       "      <td>Ed Sheeran</td>\n",
       "      <td>United Kingdom</td>\n",
       "      <td>Musician</td>\n",
       "      <td>0</td>\n",
       "      <td>Ed_Sheeran</td>\n",
       "    </tr>\n",
       "    <tr>\n",
       "      <th>201</th>\n",
       "      <td>2018</td>\n",
       "      <td>10</td>\n",
       "      <td>Cristiano Ronaldo</td>\n",
       "      <td>Portugal</td>\n",
       "      <td>Athlete (Association football)</td>\n",
       "      <td>0</td>\n",
       "      <td>Cristiano_Ronaldo</td>\n",
       "    </tr>\n",
       "  </tbody>\n",
       "</table>\n",
       "</div>"
      ],
      "text/plain": [
       "     year  rank              recipient              country  \\\n",
       "192  2018     1  Floyd Mayweather, Jr.        United States   \n",
       "193  2018     2         George Clooney        United States   \n",
       "194  2018     3           Kylie Jenner        United States   \n",
       "195  2018     4         Judy Sheindlin        United States   \n",
       "196  2018     5         Dwayne Johnson        United States   \n",
       "197  2018     6                     U2  Republic of Ireland   \n",
       "198  2018     7               Coldplay       United Kingdom   \n",
       "199  2018     8           Lionel Messi            Argentina   \n",
       "200  2018     9             Ed Sheeran       United Kingdom   \n",
       "201  2018    10      Cristiano Ronaldo             Portugal   \n",
       "\n",
       "                             career  tied                 title  \n",
       "192                Athlete (Boxing)     0  Floyd_Mayweather_Jr.  \n",
       "193                           Actor     0        George_Clooney  \n",
       "194                     Personality     0          Kylie_Jenner  \n",
       "195                     Personality     0        Judy_Sheindlin  \n",
       "196                           Actor     0        Dwayne_Johnson  \n",
       "197                       Musicians     0                    U2  \n",
       "198                       Musicians     0              Coldplay  \n",
       "199  Athlete (Association football)     0          Lionel_Messi  \n",
       "200                        Musician     0            Ed_Sheeran  \n",
       "201  Athlete (Association football)     0     Cristiano_Ronaldo  "
      ]
     },
     "execution_count": 20,
     "metadata": {},
     "output_type": "execute_result"
    }
   ],
   "source": [
    "df.tail(10)"
   ]
  },
  {
   "cell_type": "markdown",
   "metadata": {},
   "source": [
    "Get column headers"
   ]
  },
  {
   "cell_type": "code",
   "execution_count": 21,
   "metadata": {},
   "outputs": [
    {
     "data": {
      "text/plain": [
       "Index(['year', 'rank', 'recipient', 'country', 'career', 'tied', 'title'], dtype='object')"
      ]
     },
     "execution_count": 21,
     "metadata": {},
     "output_type": "execute_result"
    }
   ],
   "source": [
    "df.columns"
   ]
  },
  {
   "cell_type": "markdown",
   "metadata": {},
   "source": [
    "### Access dataframe column, row, element"
   ]
  },
  {
   "cell_type": "markdown",
   "metadata": {},
   "source": [
    "Access specific column"
   ]
  },
  {
   "cell_type": "code",
   "execution_count": 23,
   "metadata": {},
   "outputs": [
    {
     "data": {
      "text/plain": [
       "0         Michael Jordan\n",
       "1          Oprah Winfrey\n",
       "2      Leonardo DiCaprio\n",
       "3         Jerry Seinfeld\n",
       "4       Steven Spielberg\n",
       "             ...        \n",
       "197                   U2\n",
       "198             Coldplay\n",
       "199         Lionel Messi\n",
       "200           Ed Sheeran\n",
       "201    Cristiano Ronaldo\n",
       "Name: recipient, Length: 202, dtype: object"
      ]
     },
     "execution_count": 23,
     "metadata": {},
     "output_type": "execute_result"
    }
   ],
   "source": [
    "df['recipient'] # this is a Pandas series (every values has an index)"
   ]
  },
  {
   "cell_type": "markdown",
   "metadata": {},
   "source": [
    "Show the first few values"
   ]
  },
  {
   "cell_type": "code",
   "execution_count": 24,
   "metadata": {},
   "outputs": [
    {
     "data": {
      "text/plain": [
       "0        Michael Jordan\n",
       "1         Oprah Winfrey\n",
       "2     Leonardo DiCaprio\n",
       "3        Jerry Seinfeld\n",
       "4      Steven Spielberg\n",
       "5           Spice Girls\n",
       "6         Harrison Ford\n",
       "7        Robin Williams\n",
       "8           Celine Dion\n",
       "9    The Rolling Stones\n",
       "Name: recipient, dtype: object"
      ]
     },
     "execution_count": 24,
     "metadata": {},
     "output_type": "execute_result"
    }
   ],
   "source": [
    "df['recipient'].head(10) # this is the same procedure as for the dataframe earlier"
   ]
  },
  {
   "cell_type": "markdown",
   "metadata": {},
   "source": [
    "Access multiple columns"
   ]
  },
  {
   "cell_type": "code",
   "execution_count": 25,
   "metadata": {},
   "outputs": [
    {
     "data": {
      "text/html": [
       "<div>\n",
       "<style scoped>\n",
       "    .dataframe tbody tr th:only-of-type {\n",
       "        vertical-align: middle;\n",
       "    }\n",
       "\n",
       "    .dataframe tbody tr th {\n",
       "        vertical-align: top;\n",
       "    }\n",
       "\n",
       "    .dataframe thead th {\n",
       "        text-align: right;\n",
       "    }\n",
       "</style>\n",
       "<table border=\"1\" class=\"dataframe\">\n",
       "  <thead>\n",
       "    <tr style=\"text-align: right;\">\n",
       "      <th></th>\n",
       "      <th>recipient</th>\n",
       "      <th>career</th>\n",
       "      <th>rank</th>\n",
       "    </tr>\n",
       "  </thead>\n",
       "  <tbody>\n",
       "    <tr>\n",
       "      <th>0</th>\n",
       "      <td>Michael Jordan</td>\n",
       "      <td>Sportsperson (Basketball)</td>\n",
       "      <td>1</td>\n",
       "    </tr>\n",
       "    <tr>\n",
       "      <th>1</th>\n",
       "      <td>Oprah Winfrey</td>\n",
       "      <td>Television Personality</td>\n",
       "      <td>2</td>\n",
       "    </tr>\n",
       "    <tr>\n",
       "      <th>2</th>\n",
       "      <td>Leonardo DiCaprio</td>\n",
       "      <td>Actor</td>\n",
       "      <td>3</td>\n",
       "    </tr>\n",
       "    <tr>\n",
       "      <th>3</th>\n",
       "      <td>Jerry Seinfeld</td>\n",
       "      <td>Actor</td>\n",
       "      <td>4</td>\n",
       "    </tr>\n",
       "    <tr>\n",
       "      <th>4</th>\n",
       "      <td>Steven Spielberg</td>\n",
       "      <td>Filmmaker</td>\n",
       "      <td>5</td>\n",
       "    </tr>\n",
       "  </tbody>\n",
       "</table>\n",
       "</div>"
      ],
      "text/plain": [
       "           recipient                     career  rank\n",
       "0     Michael Jordan  Sportsperson (Basketball)     1\n",
       "1      Oprah Winfrey     Television Personality     2\n",
       "2  Leonardo DiCaprio                      Actor     3\n",
       "3     Jerry Seinfeld                      Actor     4\n",
       "4   Steven Spielberg                  Filmmaker     5"
      ]
     },
     "execution_count": 25,
     "metadata": {},
     "output_type": "execute_result"
    }
   ],
   "source": [
    "df[['recipient','career', 'rank']].head()"
   ]
  },
  {
   "cell_type": "markdown",
   "metadata": {},
   "source": [
    "Access specific row by index"
   ]
  },
  {
   "cell_type": "code",
   "execution_count": 26,
   "metadata": {},
   "outputs": [
    {
     "data": {
      "text/plain": [
       "year                     1999\n",
       "rank                        5\n",
       "recipient    Steven Spielberg\n",
       "country         United States\n",
       "career              Filmmaker\n",
       "tied                        0\n",
       "title        Steven_Spielberg\n",
       "Name: 4, dtype: object"
      ]
     },
     "execution_count": 26,
     "metadata": {},
     "output_type": "execute_result"
    }
   ],
   "source": [
    "df.loc[4]"
   ]
  },
  {
   "cell_type": "markdown",
   "metadata": {},
   "source": [
    "Access specific element - by index and column name"
   ]
  },
  {
   "cell_type": "code",
   "execution_count": 27,
   "metadata": {},
   "outputs": [
    {
     "data": {
      "text/plain": [
       "'Steven Spielberg'"
      ]
     },
     "execution_count": 27,
     "metadata": {},
     "output_type": "execute_result"
    }
   ],
   "source": [
    "df.loc[4, 'recipient']"
   ]
  },
  {
   "cell_type": "markdown",
   "metadata": {},
   "source": [
    "### Tally values"
   ]
  },
  {
   "cell_type": "code",
   "execution_count": 28,
   "metadata": {},
   "outputs": [
    {
     "data": {
      "text/plain": [
       "Musician                               52\n",
       "Actor                                  37\n",
       "Musicians                              26\n",
       "Television Personality                 23\n",
       "Filmmaker                              14\n",
       "Sportsperson (Golf)                    12\n",
       "Sportsperson (Basketball)              10\n",
       "Author                                  7\n",
       "Sportsperson (Association Football)     5\n",
       "Radio Personality                       4\n",
       "Sportsperson (Boxing)                   3\n",
       "Personality                             2\n",
       "Athlete (Association football)          2\n",
       "Musician / Actor                        2\n",
       "Athlete (Boxing)                        1\n",
       "Actors                                  1\n",
       "Sportsperson (Tennis)                   1\n",
       "Name: career, dtype: int64"
      ]
     },
     "execution_count": 28,
     "metadata": {},
     "output_type": "execute_result"
    }
   ],
   "source": [
    "df['career'].value_counts() # this is sorted from highest to lowest count"
   ]
  },
  {
   "cell_type": "markdown",
   "metadata": {},
   "source": [
    "Which countries are represented?"
   ]
  },
  {
   "cell_type": "code",
   "execution_count": 29,
   "metadata": {},
   "outputs": [
    {
     "data": {
      "text/plain": [
       "United States                         155\n",
       "United Kingdom                         22\n",
       "Canada                                  7\n",
       "Republic of Ireland                     5\n",
       "Portugal                                4\n",
       "Barbados                                2\n",
       "Argentina                               2\n",
       "United Kingdom/Republic of Ireland      2\n",
       "Philippines                             1\n",
       "Switzerland                             1\n",
       "Various                                 1\n",
       "Name: country, dtype: int64"
      ]
     },
     "execution_count": 29,
     "metadata": {},
     "output_type": "execute_result"
    }
   ],
   "source": [
    "df['country'].value_counts()"
   ]
  },
  {
   "cell_type": "markdown",
   "metadata": {},
   "source": [
    "### Filter dataframe by column values"
   ]
  },
  {
   "cell_type": "markdown",
   "metadata": {},
   "source": [
    "Q: Did any Filipino make it to the list?"
   ]
  },
  {
   "cell_type": "markdown",
   "metadata": {},
   "source": [
    "Filter by Country"
   ]
  },
  {
   "cell_type": "code",
   "execution_count": 30,
   "metadata": {},
   "outputs": [
    {
     "data": {
      "text/html": [
       "<div>\n",
       "<style scoped>\n",
       "    .dataframe tbody tr th:only-of-type {\n",
       "        vertical-align: middle;\n",
       "    }\n",
       "\n",
       "    .dataframe tbody tr th {\n",
       "        vertical-align: top;\n",
       "    }\n",
       "\n",
       "    .dataframe thead th {\n",
       "        text-align: right;\n",
       "    }\n",
       "</style>\n",
       "<table border=\"1\" class=\"dataframe\">\n",
       "  <thead>\n",
       "    <tr style=\"text-align: right;\">\n",
       "      <th></th>\n",
       "      <th>year</th>\n",
       "      <th>rank</th>\n",
       "      <th>recipient</th>\n",
       "      <th>country</th>\n",
       "      <th>career</th>\n",
       "      <th>tied</th>\n",
       "      <th>title</th>\n",
       "    </tr>\n",
       "  </thead>\n",
       "  <tbody>\n",
       "    <tr>\n",
       "      <th>163</th>\n",
       "      <td>2015</td>\n",
       "      <td>2</td>\n",
       "      <td>Manny Pacquiao</td>\n",
       "      <td>Philippines</td>\n",
       "      <td>Sportsperson (Boxing)</td>\n",
       "      <td>0</td>\n",
       "      <td>Manny_Pacquiao</td>\n",
       "    </tr>\n",
       "  </tbody>\n",
       "</table>\n",
       "</div>"
      ],
      "text/plain": [
       "     year  rank       recipient      country                 career  tied  \\\n",
       "163  2015     2  Manny Pacquiao  Philippines  Sportsperson (Boxing)     0   \n",
       "\n",
       "              title  \n",
       "163  Manny_Pacquiao  "
      ]
     },
     "execution_count": 30,
     "metadata": {},
     "output_type": "execute_result"
    }
   ],
   "source": [
    "df[df['country'] == 'Philippines']"
   ]
  },
  {
   "cell_type": "markdown",
   "metadata": {},
   "source": [
    "Q: Who were in Top 5 in the same year?"
   ]
  },
  {
   "cell_type": "markdown",
   "metadata": {},
   "source": [
    "Filter by Rank and Year"
   ]
  },
  {
   "cell_type": "code",
   "execution_count": 35,
   "metadata": {},
   "outputs": [
    {
     "data": {
      "text/html": [
       "<div>\n",
       "<style scoped>\n",
       "    .dataframe tbody tr th:only-of-type {\n",
       "        vertical-align: middle;\n",
       "    }\n",
       "\n",
       "    .dataframe tbody tr th {\n",
       "        vertical-align: top;\n",
       "    }\n",
       "\n",
       "    .dataframe thead th {\n",
       "        text-align: right;\n",
       "    }\n",
       "</style>\n",
       "<table border=\"1\" class=\"dataframe\">\n",
       "  <thead>\n",
       "    <tr style=\"text-align: right;\">\n",
       "      <th></th>\n",
       "      <th>year</th>\n",
       "      <th>rank</th>\n",
       "      <th>recipient</th>\n",
       "      <th>country</th>\n",
       "      <th>career</th>\n",
       "      <th>tied</th>\n",
       "      <th>title</th>\n",
       "    </tr>\n",
       "  </thead>\n",
       "  <tbody>\n",
       "    <tr>\n",
       "      <th>162</th>\n",
       "      <td>2015</td>\n",
       "      <td>1</td>\n",
       "      <td>Floyd Mayweather, Jr.</td>\n",
       "      <td>United States</td>\n",
       "      <td>Sportsperson (Boxing)</td>\n",
       "      <td>0</td>\n",
       "      <td>Floyd_Mayweather_Jr.</td>\n",
       "    </tr>\n",
       "    <tr>\n",
       "      <th>163</th>\n",
       "      <td>2015</td>\n",
       "      <td>2</td>\n",
       "      <td>Manny Pacquiao</td>\n",
       "      <td>Philippines</td>\n",
       "      <td>Sportsperson (Boxing)</td>\n",
       "      <td>0</td>\n",
       "      <td>Manny_Pacquiao</td>\n",
       "    </tr>\n",
       "    <tr>\n",
       "      <th>164</th>\n",
       "      <td>2015</td>\n",
       "      <td>3</td>\n",
       "      <td>Katy Perry</td>\n",
       "      <td>United States</td>\n",
       "      <td>Musician</td>\n",
       "      <td>0</td>\n",
       "      <td>Katy_Perry</td>\n",
       "    </tr>\n",
       "    <tr>\n",
       "      <th>165</th>\n",
       "      <td>2015</td>\n",
       "      <td>4</td>\n",
       "      <td>One Direction</td>\n",
       "      <td>United Kingdom/Republic of Ireland</td>\n",
       "      <td>Musicians</td>\n",
       "      <td>0</td>\n",
       "      <td>One_Direction</td>\n",
       "    </tr>\n",
       "    <tr>\n",
       "      <th>166</th>\n",
       "      <td>2015</td>\n",
       "      <td>5</td>\n",
       "      <td>Howard Stern</td>\n",
       "      <td>United States</td>\n",
       "      <td>Television Personality</td>\n",
       "      <td>0</td>\n",
       "      <td>Howard_Stern</td>\n",
       "    </tr>\n",
       "  </tbody>\n",
       "</table>\n",
       "</div>"
      ],
      "text/plain": [
       "     year  rank              recipient                             country  \\\n",
       "162  2015     1  Floyd Mayweather, Jr.                       United States   \n",
       "163  2015     2         Manny Pacquiao                         Philippines   \n",
       "164  2015     3             Katy Perry                       United States   \n",
       "165  2015     4          One Direction  United Kingdom/Republic of Ireland   \n",
       "166  2015     5           Howard Stern                       United States   \n",
       "\n",
       "                     career  tied                 title  \n",
       "162   Sportsperson (Boxing)     0  Floyd_Mayweather_Jr.  \n",
       "163   Sportsperson (Boxing)     0        Manny_Pacquiao  \n",
       "164                Musician     0            Katy_Perry  \n",
       "165               Musicians     0         One_Direction  \n",
       "166  Television Personality     0          Howard_Stern  "
      ]
     },
     "execution_count": 35,
     "metadata": {},
     "output_type": "execute_result"
    }
   ],
   "source": [
    "df[(df['rank'] <= 5) & (df['year'] == 2015)] # In Python, AND is '&' and OR is '|'"
   ]
  },
  {
   "cell_type": "markdown",
   "metadata": {},
   "source": [
    "### Get unique elements"
   ]
  },
  {
   "cell_type": "markdown",
   "metadata": {},
   "source": [
    "Q: How many celebrities are in the list?"
   ]
  },
  {
   "cell_type": "code",
   "execution_count": 36,
   "metadata": {},
   "outputs": [],
   "source": [
    "recipients = pd.unique(df['recipient'])"
   ]
  },
  {
   "cell_type": "code",
   "execution_count": 37,
   "metadata": {},
   "outputs": [
    {
     "data": {
      "text/plain": [
       "82"
      ]
     },
     "execution_count": 37,
     "metadata": {},
     "output_type": "execute_result"
    }
   ],
   "source": [
    "len(recipients)"
   ]
  },
  {
   "cell_type": "code",
   "execution_count": 38,
   "metadata": {},
   "outputs": [
    {
     "data": {
      "text/plain": [
       "array(['Michael Jordan', 'Oprah Winfrey', 'Leonardo DiCaprio',\n",
       "       'Jerry Seinfeld', 'Steven Spielberg', 'Spice Girls',\n",
       "       'Harrison Ford', 'Robin Williams', 'Celine Dion',\n",
       "       'The Rolling Stones', 'Julia Roberts', 'George Lucas', 'Tom Hanks',\n",
       "       'Tiger Woods', 'Backstreet Boys', 'Cher', 'Tom Cruise',\n",
       "       'The Beatles', 'Britney Spears', 'Bruce Willis', 'NSYNC',\n",
       "       'Mel Gibson', 'Madonna', 'U2', 'Mariah Carey', 'Jennifer Aniston',\n",
       "       'Eminem', 'Dr. Dre', 'Jennifer Lopez', 'Paul McCartney',\n",
       "       'Ben Affleck', 'J. K. Rowling', 'Bruce Springsteen', 'Johnny Depp',\n",
       "       \"Shaquille O'Neal\", 'Elton John', 'Howard Stern', '50 Cent',\n",
       "       'Cast of The Sopranos', 'Dan Brown', 'Brad Pitt', 'Jay-Z',\n",
       "       'Angelina Jolie', 'Beyonce', 'David Beckham', 'The Police',\n",
       "       'Paula Deen', 'Kobe Bryant', 'James Cameron', 'Lady Gaga',\n",
       "       'Sandra Bullock', 'Justin Bieber', 'Taylor Swift', 'Bon Jovi',\n",
       "       'Simon Cowell', 'LeBron James', 'Rihanna', 'Kim Kardashian',\n",
       "       'Katy Perry', 'Roger Federer', 'Ellen DeGeneres',\n",
       "       'Floyd Mayweather, Jr.', 'Robert Downey, Jr.', 'Manny Pacquiao',\n",
       "       'One Direction', 'Garth Brooks', 'James Patterson',\n",
       "       'Cristiano Ronaldo', 'Dr. Phil McGraw', 'Kevin Hart',\n",
       "       'Lionel Messi', 'Adele', 'Rush Limbaugh', \"Sean 'Diddy' Combs\",\n",
       "       'Drake', 'The Weeknd', 'Coldplay', 'George Clooney',\n",
       "       'Kylie Jenner', 'Judy Sheindlin', 'Dwayne Johnson', 'Ed Sheeran'],\n",
       "      dtype=object)"
      ]
     },
     "execution_count": 38,
     "metadata": {},
     "output_type": "execute_result"
    }
   ],
   "source": [
    "recipients"
   ]
  },
  {
   "cell_type": "markdown",
   "metadata": {},
   "source": [
    "### Sort dataframe"
   ]
  },
  {
   "cell_type": "markdown",
   "metadata": {},
   "source": [
    "Sort entries by Recipient - in ascending order"
   ]
  },
  {
   "cell_type": "code",
   "execution_count": 39,
   "metadata": {},
   "outputs": [
    {
     "data": {
      "text/html": [
       "<div>\n",
       "<style scoped>\n",
       "    .dataframe tbody tr th:only-of-type {\n",
       "        vertical-align: middle;\n",
       "    }\n",
       "\n",
       "    .dataframe tbody tr th {\n",
       "        vertical-align: top;\n",
       "    }\n",
       "\n",
       "    .dataframe thead th {\n",
       "        text-align: right;\n",
       "    }\n",
       "</style>\n",
       "<table border=\"1\" class=\"dataframe\">\n",
       "  <thead>\n",
       "    <tr style=\"text-align: right;\">\n",
       "      <th></th>\n",
       "      <th>year</th>\n",
       "      <th>rank</th>\n",
       "      <th>recipient</th>\n",
       "      <th>country</th>\n",
       "      <th>career</th>\n",
       "      <th>tied</th>\n",
       "      <th>title</th>\n",
       "    </tr>\n",
       "  </thead>\n",
       "  <tbody>\n",
       "    <tr>\n",
       "      <th>78</th>\n",
       "      <td>2006</td>\n",
       "      <td>8</td>\n",
       "      <td>50 Cent</td>\n",
       "      <td>United States</td>\n",
       "      <td>Musician</td>\n",
       "      <td>0</td>\n",
       "      <td>50_Cent</td>\n",
       "    </tr>\n",
       "    <tr>\n",
       "      <th>180</th>\n",
       "      <td>2016</td>\n",
       "      <td>9</td>\n",
       "      <td>Adele</td>\n",
       "      <td>United Kingdom</td>\n",
       "      <td>Musician</td>\n",
       "      <td>0</td>\n",
       "      <td>Adele</td>\n",
       "    </tr>\n",
       "    <tr>\n",
       "      <th>93</th>\n",
       "      <td>2008</td>\n",
       "      <td>3</td>\n",
       "      <td>Angelina Jolie</td>\n",
       "      <td>United States</td>\n",
       "      <td>Actor</td>\n",
       "      <td>0</td>\n",
       "      <td>Angelina_Jolie</td>\n",
       "    </tr>\n",
       "    <tr>\n",
       "      <th>102</th>\n",
       "      <td>2009</td>\n",
       "      <td>1</td>\n",
       "      <td>Angelina Jolie</td>\n",
       "      <td>United States</td>\n",
       "      <td>Actor</td>\n",
       "      <td>0</td>\n",
       "      <td>Angelina_Jolie</td>\n",
       "    </tr>\n",
       "    <tr>\n",
       "      <th>26</th>\n",
       "      <td>2001</td>\n",
       "      <td>7</td>\n",
       "      <td>Backstreet Boys</td>\n",
       "      <td>United States</td>\n",
       "      <td>Musicians</td>\n",
       "      <td>0</td>\n",
       "      <td>Backstreet_Boys</td>\n",
       "    </tr>\n",
       "    <tr>\n",
       "      <th>...</th>\n",
       "      <td>...</td>\n",
       "      <td>...</td>\n",
       "      <td>...</td>\n",
       "      <td>...</td>\n",
       "      <td>...</td>\n",
       "      <td>...</td>\n",
       "      <td>...</td>\n",
       "    </tr>\n",
       "    <tr>\n",
       "      <th>74</th>\n",
       "      <td>2006</td>\n",
       "      <td>4</td>\n",
       "      <td>U2</td>\n",
       "      <td>Republic of Ireland</td>\n",
       "      <td>Musicians</td>\n",
       "      <td>0</td>\n",
       "      <td>U2</td>\n",
       "    </tr>\n",
       "    <tr>\n",
       "      <th>125</th>\n",
       "      <td>2011</td>\n",
       "      <td>4</td>\n",
       "      <td>U2</td>\n",
       "      <td>Republic of Ireland</td>\n",
       "      <td>Musicians</td>\n",
       "      <td>0</td>\n",
       "      <td>U2</td>\n",
       "    </tr>\n",
       "    <tr>\n",
       "      <th>118</th>\n",
       "      <td>2010</td>\n",
       "      <td>7</td>\n",
       "      <td>U2</td>\n",
       "      <td>Republic of Ireland</td>\n",
       "      <td>Musicians</td>\n",
       "      <td>0</td>\n",
       "      <td>U2</td>\n",
       "    </tr>\n",
       "    <tr>\n",
       "      <th>197</th>\n",
       "      <td>2018</td>\n",
       "      <td>6</td>\n",
       "      <td>U2</td>\n",
       "      <td>Republic of Ireland</td>\n",
       "      <td>Musicians</td>\n",
       "      <td>0</td>\n",
       "      <td>U2</td>\n",
       "    </tr>\n",
       "    <tr>\n",
       "      <th>34</th>\n",
       "      <td>2002</td>\n",
       "      <td>5</td>\n",
       "      <td>U2</td>\n",
       "      <td>Republic of Ireland</td>\n",
       "      <td>Musicians</td>\n",
       "      <td>0</td>\n",
       "      <td>U2</td>\n",
       "    </tr>\n",
       "  </tbody>\n",
       "</table>\n",
       "<p>202 rows × 7 columns</p>\n",
       "</div>"
      ],
      "text/plain": [
       "     year  rank        recipient              country     career  tied  \\\n",
       "78   2006     8          50 Cent        United States   Musician     0   \n",
       "180  2016     9            Adele       United Kingdom   Musician     0   \n",
       "93   2008     3   Angelina Jolie        United States      Actor     0   \n",
       "102  2009     1   Angelina Jolie        United States      Actor     0   \n",
       "26   2001     7  Backstreet Boys        United States  Musicians     0   \n",
       "..    ...   ...              ...                  ...        ...   ...   \n",
       "74   2006     4               U2  Republic of Ireland  Musicians     0   \n",
       "125  2011     4               U2  Republic of Ireland  Musicians     0   \n",
       "118  2010     7               U2  Republic of Ireland  Musicians     0   \n",
       "197  2018     6               U2  Republic of Ireland  Musicians     0   \n",
       "34   2002     5               U2  Republic of Ireland  Musicians     0   \n",
       "\n",
       "               title  \n",
       "78           50_Cent  \n",
       "180            Adele  \n",
       "93    Angelina_Jolie  \n",
       "102   Angelina_Jolie  \n",
       "26   Backstreet_Boys  \n",
       "..               ...  \n",
       "74                U2  \n",
       "125               U2  \n",
       "118               U2  \n",
       "197               U2  \n",
       "34                U2  \n",
       "\n",
       "[202 rows x 7 columns]"
      ]
     },
     "execution_count": 39,
     "metadata": {},
     "output_type": "execute_result"
    }
   ],
   "source": [
    "df.sort_values(by='recipient') # this is arranged alphabetically"
   ]
  },
  {
   "cell_type": "markdown",
   "metadata": {},
   "source": [
    "Sort entries by Rank (from highest to lowest), then Year (from most recent)"
   ]
  },
  {
   "cell_type": "code",
   "execution_count": 40,
   "metadata": {},
   "outputs": [
    {
     "data": {
      "text/html": [
       "<div>\n",
       "<style scoped>\n",
       "    .dataframe tbody tr th:only-of-type {\n",
       "        vertical-align: middle;\n",
       "    }\n",
       "\n",
       "    .dataframe tbody tr th {\n",
       "        vertical-align: top;\n",
       "    }\n",
       "\n",
       "    .dataframe thead th {\n",
       "        text-align: right;\n",
       "    }\n",
       "</style>\n",
       "<table border=\"1\" class=\"dataframe\">\n",
       "  <thead>\n",
       "    <tr style=\"text-align: right;\">\n",
       "      <th></th>\n",
       "      <th>year</th>\n",
       "      <th>rank</th>\n",
       "      <th>recipient</th>\n",
       "      <th>country</th>\n",
       "      <th>career</th>\n",
       "      <th>tied</th>\n",
       "      <th>title</th>\n",
       "    </tr>\n",
       "  </thead>\n",
       "  <tbody>\n",
       "    <tr>\n",
       "      <th>192</th>\n",
       "      <td>2018</td>\n",
       "      <td>1</td>\n",
       "      <td>Floyd Mayweather, Jr.</td>\n",
       "      <td>United States</td>\n",
       "      <td>Athlete (Boxing)</td>\n",
       "      <td>0</td>\n",
       "      <td>Floyd_Mayweather_Jr.</td>\n",
       "    </tr>\n",
       "    <tr>\n",
       "      <th>182</th>\n",
       "      <td>2017</td>\n",
       "      <td>1</td>\n",
       "      <td>Sean 'Diddy' Combs</td>\n",
       "      <td>United States</td>\n",
       "      <td>Musician</td>\n",
       "      <td>0</td>\n",
       "      <td>Sean_Combs</td>\n",
       "    </tr>\n",
       "    <tr>\n",
       "      <th>172</th>\n",
       "      <td>2016</td>\n",
       "      <td>1</td>\n",
       "      <td>Taylor Swift</td>\n",
       "      <td>United States</td>\n",
       "      <td>Musician</td>\n",
       "      <td>0</td>\n",
       "      <td>Taylor_Swift</td>\n",
       "    </tr>\n",
       "    <tr>\n",
       "      <th>162</th>\n",
       "      <td>2015</td>\n",
       "      <td>1</td>\n",
       "      <td>Floyd Mayweather, Jr.</td>\n",
       "      <td>United States</td>\n",
       "      <td>Sportsperson (Boxing)</td>\n",
       "      <td>0</td>\n",
       "      <td>Floyd_Mayweather_Jr.</td>\n",
       "    </tr>\n",
       "    <tr>\n",
       "      <th>152</th>\n",
       "      <td>2014</td>\n",
       "      <td>1</td>\n",
       "      <td>Beyonce</td>\n",
       "      <td>United States</td>\n",
       "      <td>Musician</td>\n",
       "      <td>0</td>\n",
       "      <td>Beyoncé</td>\n",
       "    </tr>\n",
       "    <tr>\n",
       "      <th>...</th>\n",
       "      <td>...</td>\n",
       "      <td>...</td>\n",
       "      <td>...</td>\n",
       "      <td>...</td>\n",
       "      <td>...</td>\n",
       "      <td>...</td>\n",
       "      <td>...</td>\n",
       "    </tr>\n",
       "    <tr>\n",
       "      <th>50</th>\n",
       "      <td>2003</td>\n",
       "      <td>10</td>\n",
       "      <td>The Rolling Stones</td>\n",
       "      <td>United Kingdom</td>\n",
       "      <td>Musicians</td>\n",
       "      <td>0</td>\n",
       "      <td>The_Rolling_Stones</td>\n",
       "    </tr>\n",
       "    <tr>\n",
       "      <th>39</th>\n",
       "      <td>2002</td>\n",
       "      <td>10</td>\n",
       "      <td>Tom Hanks</td>\n",
       "      <td>United States</td>\n",
       "      <td>Actor</td>\n",
       "      <td>0</td>\n",
       "      <td>Tom_Hanks</td>\n",
       "    </tr>\n",
       "    <tr>\n",
       "      <th>29</th>\n",
       "      <td>2001</td>\n",
       "      <td>10</td>\n",
       "      <td>Mel Gibson</td>\n",
       "      <td>United States</td>\n",
       "      <td>Actor</td>\n",
       "      <td>0</td>\n",
       "      <td>Mel_Gibson</td>\n",
       "    </tr>\n",
       "    <tr>\n",
       "      <th>19</th>\n",
       "      <td>2000</td>\n",
       "      <td>10</td>\n",
       "      <td>Steven Spielberg</td>\n",
       "      <td>United States</td>\n",
       "      <td>Filmmaker</td>\n",
       "      <td>0</td>\n",
       "      <td>Steven_Spielberg</td>\n",
       "    </tr>\n",
       "    <tr>\n",
       "      <th>9</th>\n",
       "      <td>1999</td>\n",
       "      <td>10</td>\n",
       "      <td>The Rolling Stones</td>\n",
       "      <td>United Kingdom</td>\n",
       "      <td>Musicians</td>\n",
       "      <td>0</td>\n",
       "      <td>The_Rolling_Stones</td>\n",
       "    </tr>\n",
       "  </tbody>\n",
       "</table>\n",
       "<p>202 rows × 7 columns</p>\n",
       "</div>"
      ],
      "text/plain": [
       "     year  rank              recipient         country                 career  \\\n",
       "192  2018     1  Floyd Mayweather, Jr.   United States       Athlete (Boxing)   \n",
       "182  2017     1     Sean 'Diddy' Combs   United States               Musician   \n",
       "172  2016     1           Taylor Swift   United States               Musician   \n",
       "162  2015     1  Floyd Mayweather, Jr.   United States  Sportsperson (Boxing)   \n",
       "152  2014     1                Beyonce   United States               Musician   \n",
       "..    ...   ...                    ...             ...                    ...   \n",
       "50   2003    10     The Rolling Stones  United Kingdom              Musicians   \n",
       "39   2002    10              Tom Hanks   United States                  Actor   \n",
       "29   2001    10             Mel Gibson   United States                  Actor   \n",
       "19   2000    10       Steven Spielberg   United States              Filmmaker   \n",
       "9    1999    10     The Rolling Stones  United Kingdom              Musicians   \n",
       "\n",
       "     tied                 title  \n",
       "192     0  Floyd_Mayweather_Jr.  \n",
       "182     0            Sean_Combs  \n",
       "172     0          Taylor_Swift  \n",
       "162     0  Floyd_Mayweather_Jr.  \n",
       "152     0               Beyoncé  \n",
       "..    ...                   ...  \n",
       "50      0    The_Rolling_Stones  \n",
       "39      0             Tom_Hanks  \n",
       "29      0            Mel_Gibson  \n",
       "19      0      Steven_Spielberg  \n",
       "9       0    The_Rolling_Stones  \n",
       "\n",
       "[202 rows x 7 columns]"
      ]
     },
     "execution_count": 40,
     "metadata": {},
     "output_type": "execute_result"
    }
   ],
   "source": [
    "df.sort_values(by=['rank', 'year'], ascending=[True, False])"
   ]
  },
  {
   "cell_type": "markdown",
   "metadata": {},
   "source": [
    "### Filter dataframe and access specific columns"
   ]
  },
  {
   "cell_type": "markdown",
   "metadata": {},
   "source": [
    "Get Recipient column for records with Career of Sportsperson (Boxing)"
   ]
  },
  {
   "cell_type": "code",
   "execution_count": 43,
   "metadata": {},
   "outputs": [
    {
     "data": {
      "text/plain": [
       "158    Floyd Mayweather, Jr.\n",
       "162    Floyd Mayweather, Jr.\n",
       "163           Manny Pacquiao\n",
       "Name: recipient, dtype: object"
      ]
     },
     "execution_count": 43,
     "metadata": {},
     "output_type": "execute_result"
    }
   ],
   "source": [
    "df.loc[df['career'] == 'Sportsperson (Boxing)', 'recipient']\n",
    "# this returns pandas series"
   ]
  },
  {
   "cell_type": "markdown",
   "metadata": {},
   "source": [
    "Get Recipient, Year, and Rank columns"
   ]
  },
  {
   "cell_type": "code",
   "execution_count": 45,
   "metadata": {},
   "outputs": [
    {
     "data": {
      "text/html": [
       "<div>\n",
       "<style scoped>\n",
       "    .dataframe tbody tr th:only-of-type {\n",
       "        vertical-align: middle;\n",
       "    }\n",
       "\n",
       "    .dataframe tbody tr th {\n",
       "        vertical-align: top;\n",
       "    }\n",
       "\n",
       "    .dataframe thead th {\n",
       "        text-align: right;\n",
       "    }\n",
       "</style>\n",
       "<table border=\"1\" class=\"dataframe\">\n",
       "  <thead>\n",
       "    <tr style=\"text-align: right;\">\n",
       "      <th></th>\n",
       "      <th>recipient</th>\n",
       "      <th>year</th>\n",
       "      <th>rank</th>\n",
       "    </tr>\n",
       "  </thead>\n",
       "  <tbody>\n",
       "    <tr>\n",
       "      <th>158</th>\n",
       "      <td>Floyd Mayweather, Jr.</td>\n",
       "      <td>2014</td>\n",
       "      <td>7</td>\n",
       "    </tr>\n",
       "    <tr>\n",
       "      <th>162</th>\n",
       "      <td>Floyd Mayweather, Jr.</td>\n",
       "      <td>2015</td>\n",
       "      <td>1</td>\n",
       "    </tr>\n",
       "    <tr>\n",
       "      <th>163</th>\n",
       "      <td>Manny Pacquiao</td>\n",
       "      <td>2015</td>\n",
       "      <td>2</td>\n",
       "    </tr>\n",
       "  </tbody>\n",
       "</table>\n",
       "</div>"
      ],
      "text/plain": [
       "                 recipient  year  rank\n",
       "158  Floyd Mayweather, Jr.  2014     7\n",
       "162  Floyd Mayweather, Jr.  2015     1\n",
       "163         Manny Pacquiao  2015     2"
      ]
     },
     "execution_count": 45,
     "metadata": {},
     "output_type": "execute_result"
    }
   ],
   "source": [
    "df.loc[df['career'] == 'Sportsperson (Boxing)', ['recipient', 'year', 'rank']]\n",
    "# this returns another pandas DataFrame"
   ]
  },
  {
   "cell_type": "markdown",
   "metadata": {},
   "source": [
    "### Exercises\n"
   ]
  },
  {
   "cell_type": "markdown",
   "metadata": {},
   "source": [
    "Q: Who has appeared the most times?"
   ]
  },
  {
   "cell_type": "code",
   "execution_count": 49,
   "metadata": {},
   "outputs": [
    {
     "data": {
      "text/plain": [
       "Oprah Winfrey         16\n",
       "Tiger Woods           12\n",
       "Steven Spielberg      11\n",
       "Madonna                6\n",
       "The Rolling Stones     6\n",
       "                      ..\n",
       "Shaquille O'Neal       1\n",
       "Bruce Willis           1\n",
       "Rush Limbaugh          1\n",
       "Celine Dion            1\n",
       "David Beckham          1\n",
       "Name: recipient, Length: 82, dtype: int64"
      ]
     },
     "execution_count": 49,
     "metadata": {},
     "output_type": "execute_result"
    }
   ],
   "source": [
    "df['recipient'].value_counts()"
   ]
  },
  {
   "cell_type": "code",
   "execution_count": 51,
   "metadata": {},
   "outputs": [
    {
     "data": {
      "text/plain": [
       "Oprah Winfrey    16\n",
       "Name: recipient, dtype: int64"
      ]
     },
     "execution_count": 51,
     "metadata": {},
     "output_type": "execute_result"
    }
   ],
   "source": [
    "df['recipient'].value_counts().head(1)"
   ]
  },
  {
   "cell_type": "markdown",
   "metadata": {},
   "source": [
    "Q: When did \"Oprah Winfrey\" appear on the list?"
   ]
  },
  {
   "cell_type": "code",
   "execution_count": 47,
   "metadata": {},
   "outputs": [
    {
     "data": {
      "text/html": [
       "<div>\n",
       "<style scoped>\n",
       "    .dataframe tbody tr th:only-of-type {\n",
       "        vertical-align: middle;\n",
       "    }\n",
       "\n",
       "    .dataframe tbody tr th {\n",
       "        vertical-align: top;\n",
       "    }\n",
       "\n",
       "    .dataframe thead th {\n",
       "        text-align: right;\n",
       "    }\n",
       "</style>\n",
       "<table border=\"1\" class=\"dataframe\">\n",
       "  <thead>\n",
       "    <tr style=\"text-align: right;\">\n",
       "      <th></th>\n",
       "      <th>year</th>\n",
       "      <th>rank</th>\n",
       "      <th>recipient</th>\n",
       "      <th>country</th>\n",
       "      <th>career</th>\n",
       "      <th>tied</th>\n",
       "      <th>title</th>\n",
       "    </tr>\n",
       "  </thead>\n",
       "  <tbody>\n",
       "    <tr>\n",
       "      <th>1</th>\n",
       "      <td>1999</td>\n",
       "      <td>2</td>\n",
       "      <td>Oprah Winfrey</td>\n",
       "      <td>United States</td>\n",
       "      <td>Television Personality</td>\n",
       "      <td>0</td>\n",
       "      <td>Oprah_Winfrey</td>\n",
       "    </tr>\n",
       "    <tr>\n",
       "      <th>12</th>\n",
       "      <td>2000</td>\n",
       "      <td>3</td>\n",
       "      <td>Oprah Winfrey</td>\n",
       "      <td>United States</td>\n",
       "      <td>Television Personality</td>\n",
       "      <td>0</td>\n",
       "      <td>Oprah_Winfrey</td>\n",
       "    </tr>\n",
       "    <tr>\n",
       "      <th>28</th>\n",
       "      <td>2001</td>\n",
       "      <td>9</td>\n",
       "      <td>Oprah Winfrey</td>\n",
       "      <td>United States</td>\n",
       "      <td>Television Personality</td>\n",
       "      <td>0</td>\n",
       "      <td>Oprah_Winfrey</td>\n",
       "    </tr>\n",
       "    <tr>\n",
       "      <th>37</th>\n",
       "      <td>2002</td>\n",
       "      <td>8</td>\n",
       "      <td>Oprah Winfrey</td>\n",
       "      <td>United States</td>\n",
       "      <td>Television Personality</td>\n",
       "      <td>0</td>\n",
       "      <td>Oprah_Winfrey</td>\n",
       "    </tr>\n",
       "    <tr>\n",
       "      <th>48</th>\n",
       "      <td>2003</td>\n",
       "      <td>8</td>\n",
       "      <td>Oprah Winfrey</td>\n",
       "      <td>United States</td>\n",
       "      <td>Television Personality</td>\n",
       "      <td>0</td>\n",
       "      <td>Oprah_Winfrey</td>\n",
       "    </tr>\n",
       "    <tr>\n",
       "      <th>53</th>\n",
       "      <td>2004</td>\n",
       "      <td>3</td>\n",
       "      <td>Oprah Winfrey</td>\n",
       "      <td>United States</td>\n",
       "      <td>Television Personality</td>\n",
       "      <td>0</td>\n",
       "      <td>Oprah_Winfrey</td>\n",
       "    </tr>\n",
       "    <tr>\n",
       "      <th>61</th>\n",
       "      <td>2005</td>\n",
       "      <td>1</td>\n",
       "      <td>Oprah Winfrey</td>\n",
       "      <td>United States</td>\n",
       "      <td>Television Personality</td>\n",
       "      <td>0</td>\n",
       "      <td>Oprah_Winfrey</td>\n",
       "    </tr>\n",
       "    <tr>\n",
       "      <th>73</th>\n",
       "      <td>2006</td>\n",
       "      <td>3</td>\n",
       "      <td>Oprah Winfrey</td>\n",
       "      <td>United States</td>\n",
       "      <td>Television Personality</td>\n",
       "      <td>0</td>\n",
       "      <td>Oprah_Winfrey</td>\n",
       "    </tr>\n",
       "    <tr>\n",
       "      <th>81</th>\n",
       "      <td>2007</td>\n",
       "      <td>1</td>\n",
       "      <td>Oprah Winfrey</td>\n",
       "      <td>United States</td>\n",
       "      <td>Television Personality</td>\n",
       "      <td>0</td>\n",
       "      <td>Oprah_Winfrey</td>\n",
       "    </tr>\n",
       "    <tr>\n",
       "      <th>91</th>\n",
       "      <td>2008</td>\n",
       "      <td>1</td>\n",
       "      <td>Oprah Winfrey</td>\n",
       "      <td>United States</td>\n",
       "      <td>Television Personality</td>\n",
       "      <td>0</td>\n",
       "      <td>Oprah_Winfrey</td>\n",
       "    </tr>\n",
       "    <tr>\n",
       "      <th>103</th>\n",
       "      <td>2009</td>\n",
       "      <td>2</td>\n",
       "      <td>Oprah Winfrey</td>\n",
       "      <td>United States</td>\n",
       "      <td>Television Personality</td>\n",
       "      <td>0</td>\n",
       "      <td>Oprah_Winfrey</td>\n",
       "    </tr>\n",
       "    <tr>\n",
       "      <th>112</th>\n",
       "      <td>2010</td>\n",
       "      <td>1</td>\n",
       "      <td>Oprah Winfrey</td>\n",
       "      <td>United States</td>\n",
       "      <td>Television Personality</td>\n",
       "      <td>0</td>\n",
       "      <td>Oprah_Winfrey</td>\n",
       "    </tr>\n",
       "    <tr>\n",
       "      <th>123</th>\n",
       "      <td>2011</td>\n",
       "      <td>2</td>\n",
       "      <td>Oprah Winfrey</td>\n",
       "      <td>United States</td>\n",
       "      <td>Television Personality</td>\n",
       "      <td>0</td>\n",
       "      <td>Oprah_Winfrey</td>\n",
       "    </tr>\n",
       "    <tr>\n",
       "      <th>133</th>\n",
       "      <td>2012</td>\n",
       "      <td>2</td>\n",
       "      <td>Oprah Winfrey</td>\n",
       "      <td>United States</td>\n",
       "      <td>Television Personality</td>\n",
       "      <td>0</td>\n",
       "      <td>Oprah_Winfrey</td>\n",
       "    </tr>\n",
       "    <tr>\n",
       "      <th>142</th>\n",
       "      <td>2013</td>\n",
       "      <td>1</td>\n",
       "      <td>Oprah Winfrey</td>\n",
       "      <td>United States</td>\n",
       "      <td>Television Personality</td>\n",
       "      <td>0</td>\n",
       "      <td>Oprah_Winfrey</td>\n",
       "    </tr>\n",
       "    <tr>\n",
       "      <th>155</th>\n",
       "      <td>2014</td>\n",
       "      <td>4</td>\n",
       "      <td>Oprah Winfrey</td>\n",
       "      <td>United States</td>\n",
       "      <td>Television Personality</td>\n",
       "      <td>0</td>\n",
       "      <td>Oprah_Winfrey</td>\n",
       "    </tr>\n",
       "  </tbody>\n",
       "</table>\n",
       "</div>"
      ],
      "text/plain": [
       "     year  rank      recipient        country                  career  tied  \\\n",
       "1    1999     2  Oprah Winfrey  United States  Television Personality     0   \n",
       "12   2000     3  Oprah Winfrey  United States  Television Personality     0   \n",
       "28   2001     9  Oprah Winfrey  United States  Television Personality     0   \n",
       "37   2002     8  Oprah Winfrey  United States  Television Personality     0   \n",
       "48   2003     8  Oprah Winfrey  United States  Television Personality     0   \n",
       "53   2004     3  Oprah Winfrey  United States  Television Personality     0   \n",
       "61   2005     1  Oprah Winfrey  United States  Television Personality     0   \n",
       "73   2006     3  Oprah Winfrey  United States  Television Personality     0   \n",
       "81   2007     1  Oprah Winfrey  United States  Television Personality     0   \n",
       "91   2008     1  Oprah Winfrey  United States  Television Personality     0   \n",
       "103  2009     2  Oprah Winfrey  United States  Television Personality     0   \n",
       "112  2010     1  Oprah Winfrey  United States  Television Personality     0   \n",
       "123  2011     2  Oprah Winfrey  United States  Television Personality     0   \n",
       "133  2012     2  Oprah Winfrey  United States  Television Personality     0   \n",
       "142  2013     1  Oprah Winfrey  United States  Television Personality     0   \n",
       "155  2014     4  Oprah Winfrey  United States  Television Personality     0   \n",
       "\n",
       "             title  \n",
       "1    Oprah_Winfrey  \n",
       "12   Oprah_Winfrey  \n",
       "28   Oprah_Winfrey  \n",
       "37   Oprah_Winfrey  \n",
       "48   Oprah_Winfrey  \n",
       "53   Oprah_Winfrey  \n",
       "61   Oprah_Winfrey  \n",
       "73   Oprah_Winfrey  \n",
       "81   Oprah_Winfrey  \n",
       "91   Oprah_Winfrey  \n",
       "103  Oprah_Winfrey  \n",
       "112  Oprah_Winfrey  \n",
       "123  Oprah_Winfrey  \n",
       "133  Oprah_Winfrey  \n",
       "142  Oprah_Winfrey  \n",
       "155  Oprah_Winfrey  "
      ]
     },
     "execution_count": 47,
     "metadata": {},
     "output_type": "execute_result"
    }
   ],
   "source": [
    "df[df['recipient'] == 'Oprah Winfrey']"
   ]
  },
  {
   "cell_type": "code",
   "execution_count": 48,
   "metadata": {},
   "outputs": [
    {
     "data": {
      "text/plain": [
       "16"
      ]
     },
     "execution_count": 48,
     "metadata": {},
     "output_type": "execute_result"
    }
   ],
   "source": [
    "len(df[df['recipient'] == 'Oprah Winfrey'])"
   ]
  },
  {
   "cell_type": "markdown",
   "metadata": {},
   "source": [
    "Q: How many times did she reach the top spot?"
   ]
  },
  {
   "cell_type": "code",
   "execution_count": 52,
   "metadata": {},
   "outputs": [],
   "source": [
    "df_top = df.loc[(df['recipient'] == 'Oprah Winfrey') & (df['rank'] == 1)]"
   ]
  },
  {
   "cell_type": "code",
   "execution_count": 53,
   "metadata": {},
   "outputs": [
    {
     "data": {
      "text/plain": [
       "5"
      ]
     },
     "execution_count": 53,
     "metadata": {},
     "output_type": "execute_result"
    }
   ],
   "source": [
    "len(df_top)"
   ]
  }
 ],
 "metadata": {
  "kernelspec": {
   "display_name": "Python 3",
   "language": "python",
   "name": "python3"
  },
  "language_info": {
   "codemirror_mode": {
    "name": "ipython",
    "version": 3
   },
   "file_extension": ".py",
   "mimetype": "text/x-python",
   "name": "python",
   "nbconvert_exporter": "python",
   "pygments_lexer": "ipython3",
   "version": "3.7.3"
  }
 },
 "nbformat": 4,
 "nbformat_minor": 4
}
